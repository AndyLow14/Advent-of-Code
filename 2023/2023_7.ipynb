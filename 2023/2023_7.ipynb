{
 "cells": [
  {
   "cell_type": "markdown",
   "metadata": {},
   "source": [
    "Day 7 Q 1"
   ]
  },
  {
   "cell_type": "code",
   "execution_count": 37,
   "metadata": {},
   "outputs": [
    {
     "name": "stdout",
     "output_type": "stream",
     "text": [
      "{2: [('32T3K', 765)], 4: [('T55J5', 684), ('QQQJA', 483)], 3: [('KK677', 28), ('KTJJT', 220)]}\n"
     ]
    },
    {
     "ename": "TypeError",
     "evalue": "compare_hands() missing 1 required positional argument: 'hand2'",
     "output_type": "error",
     "traceback": [
      "\u001b[0;31m---------------------------------------------------------------------------\u001b[0m",
      "\u001b[0;31mTypeError\u001b[0m                                 Traceback (most recent call last)",
      "\u001b[1;32m/Users/andy.low/Desktop/Projects/Advent-of-Code/2023/2023_7.ipynb Cell 2\u001b[0m line \u001b[0;36m7\n\u001b[1;32m     <a href='vscode-notebook-cell:/Users/andy.low/Desktop/Projects/Advent-of-Code/2023/2023_7.ipynb#W1sZmlsZQ%3D%3D?line=72'>73</a>\u001b[0m \u001b[39m# Sort hands within each power group\u001b[39;00m\n\u001b[1;32m     <a href='vscode-notebook-cell:/Users/andy.low/Desktop/Projects/Advent-of-Code/2023/2023_7.ipynb#W1sZmlsZQ%3D%3D?line=73'>74</a>\u001b[0m \u001b[39mfor\u001b[39;00m power, hand_bid_list \u001b[39min\u001b[39;00m hand_powers\u001b[39m.\u001b[39mitems():\n\u001b[0;32m---> <a href='vscode-notebook-cell:/Users/andy.low/Desktop/Projects/Advent-of-Code/2023/2023_7.ipynb#W1sZmlsZQ%3D%3D?line=74'>75</a>\u001b[0m     hand_powers[power] \u001b[39m=\u001b[39m \u001b[39msorted\u001b[39;49m(hand_powers[power], key\u001b[39m=\u001b[39;49mcompare_hands)\n\u001b[1;32m     <a href='vscode-notebook-cell:/Users/andy.low/Desktop/Projects/Advent-of-Code/2023/2023_7.ipynb#W1sZmlsZQ%3D%3D?line=76'>77</a>\u001b[0m \u001b[39mprint\u001b[39m(hand_powers)\n",
      "\u001b[0;31mTypeError\u001b[0m: compare_hands() missing 1 required positional argument: 'hand2'"
     ]
    }
   ],
   "source": [
    "import re\n",
    "\n",
    "file = open(\"2023_7_input.txt\", \"r\")\n",
    "lines = file.readlines()\n",
    "file.close()\n",
    "\n",
    "def compare_hands(hand1, hand2):\n",
    "    # Order of card strength\n",
    "    card_order = \"AKQJT98765432\"\n",
    "\n",
    "    # Compare two hands based on the specified rules\n",
    "    for card1, card2 in zip(hand1, hand2):\n",
    "        rank1, rank2 = card_order.index(card1[:-1]), card_order.index(card2[:-1])\n",
    "        if rank1 != rank2:\n",
    "            return rank2 - rank1\n",
    "\n",
    "    return 0  # Both hands are equal\n",
    "\n",
    "hand_powers = {}\n",
    "\n",
    "def calculate_hand_power(hand):\n",
    "  # Count the occurrences of each card label.\n",
    "  card_counts = dict()\n",
    "  for card in hand:\n",
    "    label = card[0]\n",
    "    if label not in card_counts:\n",
    "      card_counts[label] = 0\n",
    "    card_counts[label] += 1\n",
    "\n",
    "#   print(card_counts)\n",
    "\n",
    "  # Check for various hand types in descending order of power.\n",
    "  if len(card_counts) == 1:\n",
    "    # Five of a kind\n",
    "    return 7\n",
    "  elif len(card_counts) == 2:\n",
    "    for count in card_counts.values():\n",
    "      if count == 4:\n",
    "        # Four of a kind\n",
    "        return 6\n",
    "      elif count == 3:\n",
    "        # Full house\n",
    "        return 5\n",
    "  elif len(card_counts) == 3:\n",
    "    pair_count = 0\n",
    "    for count in card_counts.values():\n",
    "      if count == 3:\n",
    "        # Three of a kind\n",
    "        return 4\n",
    "      if count == 2:\n",
    "        pair_count += 1\n",
    "    if pair_count == 2:\n",
    "            # Two pair\n",
    "            return 3\n",
    "  elif len(card_counts) == 4:\n",
    "    # One pair\n",
    "    return 2\n",
    "  else:\n",
    "    # High card\n",
    "    return 1\n",
    "\n",
    "pairs = [(item[:5], int(item[5:])) for item in lines]\n",
    "# Populate the hand_powers dictionary\n",
    "for hand, bid in pairs:\n",
    "    power = calculate_hand_power(hand)\n",
    "    if power not in hand_powers:\n",
    "        hand_powers[power] = []\n",
    "    hand_powers[power].append((hand, bid))\n",
    "\n",
    "\n",
    "print(hand_powers)\n",
    "\n",
    "# Sort hands within each power group\n",
    "for power, hand_bid_list in hand_powers.items():\n",
    "    hand_powers[power].sort(key=compare_hands)\n",
    "\n",
    "print(hand_powers)\n",
    "    \n"
   ]
  },
  {
   "cell_type": "markdown",
   "metadata": {},
   "source": [
    "Day 7 Q 2"
   ]
  },
  {
   "cell_type": "markdown",
   "metadata": {},
   "source": []
  },
  {
   "cell_type": "code",
   "execution_count": null,
   "metadata": {},
   "outputs": [],
   "source": [
    "import re\n",
    "\n",
    "file = open(\"2023_7_input.txt\", \"r\")\n",
    "lines = file.readlines()\n",
    "file.close()"
   ]
  }
 ],
 "metadata": {
  "kernelspec": {
   "display_name": "Python 3",
   "language": "python",
   "name": "python3"
  },
  "language_info": {
   "codemirror_mode": {
    "name": "ipython",
    "version": 3
   },
   "file_extension": ".py",
   "mimetype": "text/x-python",
   "name": "python",
   "nbconvert_exporter": "python",
   "pygments_lexer": "ipython3",
   "version": "3.11.6"
  }
 },
 "nbformat": 4,
 "nbformat_minor": 2
}
