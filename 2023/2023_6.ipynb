{
 "cells": [
  {
   "cell_type": "markdown",
   "metadata": {},
   "source": [
    "Day 6 Q 1"
   ]
  },
  {
   "cell_type": "code",
   "execution_count": 31,
   "metadata": {},
   "outputs": [
    {
     "name": "stdout",
     "output_type": "stream",
     "text": [
      "288\n"
     ]
    }
   ],
   "source": [
    "import re\n",
    "\n",
    "\n",
    "file = open(\"2023_6_input.txt\", \"r\")\n",
    "lines = file.readlines()\n",
    "file.close()  # Close the file after reading its content\n",
    "\n",
    "def multiply_list(lst):\n",
    "    result = 1\n",
    "    for num in lst:\n",
    "        result *= num\n",
    "    return result\n",
    "\n",
    "time_list, dist_list = [int(num) for num in re.findall(r'\\d+', lines[0].strip())], [int(num) for num in re.findall(r'\\d+', lines[1].strip())]\n",
    "\n",
    "num_ways = []\n",
    "\n",
    "for i in range(len(time_list)):\n",
    "    curr_time = time_list[i]\n",
    "    curr_dist = dist_list[i]\n",
    "\n",
    "    ways = []\n",
    "\n",
    "    for j in range(1, curr_time + 1):\n",
    "        way_dist = (curr_time-j)*j\n",
    "        if way_dist > curr_dist:\n",
    "            ways.append((curr_time-j)*j)\n",
    "\n",
    "    num_ways.append(len(ways))\n",
    "\n",
    "\n",
    "print(multiply_list(num_ways))"
   ]
  },
  {
   "cell_type": "markdown",
   "metadata": {},
   "source": [
    "Day 6 Q 2"
   ]
  },
  {
   "cell_type": "code",
   "execution_count": 37,
   "metadata": {},
   "outputs": [
    {
     "name": "stdout",
     "output_type": "stream",
     "text": [
      "45128024\n"
     ]
    }
   ],
   "source": [
    "import re\n",
    "\n",
    "\n",
    "file = open(\"2023_6_input.txt\", \"r\")\n",
    "lines = file.readlines()\n",
    "file.close() \n",
    "\n",
    "def multiply_list(lst):\n",
    "    result = 1\n",
    "    for num in lst:\n",
    "        result *= num\n",
    "    return result\n",
    "\n",
    "curr_time = int(''.join(re.findall(r'\\d+', lines[0])))\n",
    "curr_dist = int(''.join(re.findall(r'\\d+', lines[1])))\n",
    "\n",
    "ways = 0\n",
    "\n",
    "for i in range(1, curr_time + 1):\n",
    "    way_dist = (curr_time-i)*i\n",
    "    if way_dist > curr_dist:\n",
    "        ways += 1\n",
    "\n",
    "\n",
    "print(ways)"
   ]
  }
 ],
 "metadata": {
  "kernelspec": {
   "display_name": "Python 3",
   "language": "python",
   "name": "python3"
  },
  "language_info": {
   "codemirror_mode": {
    "name": "ipython",
    "version": 3
   },
   "file_extension": ".py",
   "mimetype": "text/x-python",
   "name": "python",
   "nbconvert_exporter": "python",
   "pygments_lexer": "ipython3",
   "version": "3.11.6"
  }
 },
 "nbformat": 4,
 "nbformat_minor": 2
}
