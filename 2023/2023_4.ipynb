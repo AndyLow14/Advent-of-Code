{
 "cells": [
  {
   "cell_type": "markdown",
   "metadata": {},
   "source": [
    "Day 4 Q 1"
   ]
  },
  {
   "cell_type": "code",
   "execution_count": 36,
   "metadata": {},
   "outputs": [
    {
     "name": "stdout",
     "output_type": "stream",
     "text": [
      "13\n"
     ]
    }
   ],
   "source": [
    "file = open(\"2023_4_1.txt\", \"r\")\n",
    "lines = file.readlines()\n",
    "file.close()\n",
    "\n",
    "import re\n",
    "\n",
    "# 1 point for 1st card then * 2^remanining matches\n",
    "\n",
    "sum = 0\n",
    "\n",
    "for line in lines:\n",
    "\n",
    "    # Find the index of '|' in the string\n",
    "    separator_index = line.find('|')\n",
    "    # Find the index of ':' in the string\n",
    "    colon_index = line.find(':')\n",
    "\n",
    "    # Extract the part of the string before ':'\n",
    "    card_identifier = line[:colon_index].strip()\n",
    "    numbers_before_pipe = line[colon_index + 1:separator_index].strip()\n",
    "    numbers_after_pipe = line[separator_index + 1:].strip()\n",
    "\n",
    "    # Convert the numbers to arrays of integers\n",
    "    array1 = list(map(int, numbers_before_pipe.split()))\n",
    "    array2 = list(map(int, numbers_after_pipe.split()))\n",
    "\n",
    "    # print(\"Array 1:\", array1)\n",
    "    # print(\"Array 2:\", array2)\n",
    "\n",
    "    # Find common elements\n",
    "    common_elements = set(array1) & set(array2)\n",
    "\n",
    "    # Count of common elements\n",
    "    count_common_elements = len(common_elements)\n",
    "\n",
    "    # print(\"Common elements in Array 1 and Array 2:\", list(common_elements))\n",
    "    # print(\"Count of common elements:\", count_common_elements)\n",
    "\n",
    "    if count_common_elements: \n",
    "        sum += 2**(count_common_elements-1)\n",
    "\n",
    "print(sum)\n"
   ]
  },
  {
   "cell_type": "markdown",
   "metadata": {},
   "source": [
    "Day 4 Q 2"
   ]
  },
  {
   "cell_type": "code",
   "execution_count": 55,
   "metadata": {},
   "outputs": [
    {
     "name": "stdout",
     "output_type": "stream",
     "text": [
      "Count of common elements: 4\n",
      "Card 1\n",
      "Count of common elements: 2\n",
      "Card 2\n",
      "Count of common elements: 2\n",
      "Card 3\n",
      "Count of common elements: 1\n",
      "Card 4\n",
      "Count of common elements: 0\n",
      "Card 5\n",
      "Count of common elements: 0\n",
      "Card 6\n",
      "{'Card 1': 4, 'Card 2': 2, 'Card 3': 2, 'Card 4': 1, 'Card 5': 0, 'Card 6': 0}\n"
     ]
    }
   ],
   "source": [
    "file = open(\"2023_4_input.txt\", \"r\")\n",
    "lines = file.readlines()\n",
    "file.close()\n",
    "\n",
    "# 1 point for 1st card then * 2^remanining matches\n",
    "\n",
    "total_cards = 0\n",
    "card_wins = {}\n",
    "\n",
    "for line in lines:\n",
    "    # add current card to total_cards\n",
    "    total_cards += 1 \n",
    "\n",
    "    # Find the index of '|' in the string\n",
    "    separator_index = line.find('|')\n",
    "    # Find the index of ':' in the string\n",
    "    colon_index = line.find(':')\n",
    "\n",
    "    # Extract the part of the string before ':'\n",
    "    card_identifier = line[:colon_index].strip()\n",
    "    numbers_before_pipe = line[colon_index + 1:separator_index].strip()\n",
    "    numbers_after_pipe = line[separator_index + 1:].strip()\n",
    "\n",
    "    # Convert the numbers to arrays of integers\n",
    "    array1 = list(map(int, numbers_before_pipe.split()))\n",
    "    array2 = list(map(int, numbers_after_pipe.split()))\n",
    "\n",
    "    # Print the result\n",
    "    # print(\"Array 1:\", array1)\n",
    "    # print(\"Array 2:\", array2)\n",
    "\n",
    "    # Find common elements\n",
    "    common_elements = set(array1) & set(array2)\n",
    "\n",
    "    # Count of common elements\n",
    "    count_common_elements = len(common_elements)\n",
    "\n",
    "    # Print the result\n",
    "    # print(\"Common elements in Array 1 and Array 2:\", list(common_elements))\n",
    "    print(\"Count of common elements:\", count_common_elements)\n",
    "\n",
    "    print(card_identifier)\n",
    "\n",
    "    card_wins[card_identifier] = count_common_elements\n",
    "    # Use a regular expression to find all numbers in the string\n",
    "    id = re.findall(r'\\d+', card_identifier)\n",
    "    prev = int(id[0]) - 1\n",
    "\n",
    "    if prev != 0:\n",
    "        for i in range(card_wins[\"Card \" + str(prev)]):\n",
    "            total_cards += 1;\n",
    "\n",
    "    \n",
    "\n",
    "print(card_wins)\n"
   ]
  }
 ],
 "metadata": {
  "kernelspec": {
   "display_name": "Python 3",
   "language": "python",
   "name": "python3"
  },
  "language_info": {
   "codemirror_mode": {
    "name": "ipython",
    "version": 3
   },
   "file_extension": ".py",
   "mimetype": "text/x-python",
   "name": "python",
   "nbconvert_exporter": "python",
   "pygments_lexer": "ipython3",
   "version": "3.11.6"
  }
 },
 "nbformat": 4,
 "nbformat_minor": 2
}
