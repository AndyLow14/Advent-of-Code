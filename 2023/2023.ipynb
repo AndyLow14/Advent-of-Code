{
 "cells": [
  {
   "cell_type": "markdown",
   "metadata": {},
   "source": [
    "Advent of Code 2023, Day 1, Q1"
   ]
  },
  {
   "cell_type": "code",
   "execution_count": 53,
   "metadata": {},
   "outputs": [
    {
     "name": "stdout",
     "output_type": "stream",
     "text": [
      "54605\n"
     ]
    }
   ],
   "source": [
    "file = open(\"2023_1_1.txt\", \"r\")\n",
    "\n",
    "total = 0\n",
    "  \n",
    "for line in file:\n",
    "    frontChar = \"\"\n",
    "    for char in line:\n",
    "        if char.isnumeric():\n",
    "            frontChar += char\n",
    "            break\n",
    "    for charR in line[::-1]:\n",
    "        if charR.isnumeric():\n",
    "            frontChar += charR\n",
    "            break\n",
    "    total += int(frontChar)\n",
    "\n",
    "print(total)"
   ]
  },
  {
   "cell_type": "markdown",
   "metadata": {},
   "source": [
    "Advent of Code 2023, Day 1, Q2"
   ]
  },
  {
   "cell_type": "code",
   "execution_count": 54,
   "metadata": {},
   "outputs": [
    {
     "name": "stdout",
     "output_type": "stream",
     "text": [
      "55429\n"
     ]
    }
   ],
   "source": [
    "file = open(\"2023_1_2.txt\", \"r\")\n",
    "\n",
    "number_dict = {\n",
    "    'one': 1,\n",
    "    'two': 2,\n",
    "    'three': 3,\n",
    "    'four': 4,\n",
    "    'five': 5,\n",
    "    'six': 6,\n",
    "    'seven': 7,\n",
    "    'eight': 8,\n",
    "    'nine': 9,\n",
    "}\n",
    "\n",
    "all_array = [] \n",
    "\n",
    "for line in file:\n",
    "    line_number_start = \"\"\n",
    "    line_number_end = \"\"\n",
    "    found_start = False\n",
    "    found_end = False\n",
    "    for i in range(len(line)):\n",
    "        if line[i].isnumeric():\n",
    "            line_number_start = line[i]\n",
    "            break\n",
    "\n",
    "        for word in number_dict:\n",
    "            if line.startswith(word, i):\n",
    "                line_number_start = str(number_dict[word])\n",
    "                found_start = True\n",
    "                break\n",
    "        if found_start:\n",
    "            break\n",
    "\n",
    "    for j in range(len(line) - 1, -1, -1):\n",
    "        if line[j].isnumeric():\n",
    "            line_number_end = line[j]\n",
    "            break\n",
    "        \n",
    "        for word in number_dict:\n",
    "            if line.startswith(word, j):\n",
    "                line_number_end = str(number_dict[word])\n",
    "                found_end = True\n",
    "                break\n",
    "        if found_end:\n",
    "            break\n",
    "\n",
    "    all_array.append(int(line_number_start + line_number_end))\n",
    "          \n",
    "print(sum(all_array))\n",
    "\n"
   ]
  },
  {
   "cell_type": "markdown",
   "metadata": {},
   "source": [
    "Day 2 Q 1"
   ]
  },
  {
   "cell_type": "code",
   "execution_count": 49,
   "metadata": {},
   "outputs": [
    {
     "name": "stdout",
     "output_type": "stream",
     "text": [
      "7 15\n"
     ]
    }
   ],
   "source": [
    "file = open(\"2023_2_1.txt\", \"r\")\n",
    "\n",
    "cubes = {\n",
    "    'red': 12,\n",
    "    'green': 13,\n",
    "    'blue': 14,\n",
    "}\n",
    "\n",
    "id_sum = 0\n",
    "id_sum_possible = 0\n",
    "\n",
    "for line in file:\n",
    "    # Split the string at the colon and take the first part\n",
    "    game_id = line.split(\":\")[0].strip().split(\" \")[1]\n",
    "    id_sum += int(game_id)\n",
    "    # Find the index of the colon\n",
    "    colon_index = line.find(\":\")\n",
    "    # Extract the substring after the colon\n",
    "    substring_after_colon = line[colon_index + 1:].strip(\"\\n\")\n",
    "\n",
    "    games = substring_after_colon.split(\";\")\n",
    "    break_all_loops = False  # Flag to break out of all loops\n",
    "\n",
    "    for game in games:\n",
    "      \n",
    "        game_colors = game.strip(\" \").split(\", \")\n",
    "        for game_color in game_colors:\n",
    "            for cube in cubes:\n",
    "                if (game_color.endswith(cube)):\n",
    "                    curr_game_colors = game_color.split(\" \")[0]\n",
    "                    if (int(curr_game_colors) > cubes[cube]):\n",
    "              \n",
    "                        id_sum_possible += int(game_id)\n",
    "                        break_all_loops = True\n",
    "                        break  # Break out of the innermost loop\n",
    "            if break_all_loops:\n",
    "                break  # Break out of the middle loop\n",
    "        if break_all_loops:\n",
    "            break  # Break out of the outermost loop (for line in file)\n",
    "\n",
    "\n",
    "print(id_sum-id_sum_possible)\n",
    "\n",
    "    \n",
    "\n",
    "\n"
   ]
  },
  {
   "cell_type": "markdown",
   "metadata": {},
   "source": [
    "Day 2 Q 2"
   ]
  },
  {
   "cell_type": "code",
   "execution_count": 10,
   "metadata": {},
   "outputs": [
    {
     "name": "stdout",
     "output_type": "stream",
     "text": [
      "72596\n"
     ]
    }
   ],
   "source": [
    "file = open(\"2023_2_2.txt\", \"r\")\n",
    "\n",
    "cubes = {\n",
    "    'red': 12,\n",
    "    'green': 13,\n",
    "    'blue': 14,\n",
    "}\n",
    "\n",
    "power_sum = 0\n",
    "\n",
    "for line in file:\n",
    "\n",
    "    curr_game_least = {\n",
    "        'red': 0,\n",
    "        'green': 0,\n",
    "        'blue': 0,\n",
    "    }\n",
    "\n",
    "    # ex. 1, 2, 3 ...\n",
    "    game_id = line.split(\":\")[0].strip().split(\" \")[1]\n",
    "    id_sum += int(game_id)\n",
    "    # Find the index of the colon\n",
    "    colon_index = line.find(\":\")\n",
    "    # ex. \"3 blue, 4 red; 1 red, 2 green, 6 blue; 2 green\"\n",
    "    substring_after_colon = line[colon_index + 1:].strip(\"\\n\")\n",
    "\n",
    "    # ex. [\"3 blue, 4 red\", \"1 red, 2 green\", \"6 blue; 2 green\"]\n",
    "    games = substring_after_colon.split(\";\")\n",
    "    break_all_loops = False  \n",
    "\n",
    "    for game in games:\n",
    "        # ex. [\"3 blue\", \"4 red\"]\n",
    "        game_colors = game.strip(\" \").split(\", \")\n",
    "          # ex. \"3 blue\"\n",
    "        for game_color in game_colors:\n",
    "            split = game_color.split(\" \")\n",
    "            num = split[0]\n",
    "            col = split[1]\n",
    "            if int(curr_game_least[col]) < int(num):\n",
    "                curr_game_least[col] = num\n",
    "        \n",
    "    # Convert values to integers and multiply\n",
    "    power_sum += int(curr_game_least['red']) * int(curr_game_least['green']) * int(curr_game_least['blue'])\n",
    "\n",
    "print(power_sum)"
   ]
  }
 ],
 "metadata": {
  "kernelspec": {
   "display_name": "Python 3",
   "language": "python",
   "name": "python3"
  },
  "language_info": {
   "codemirror_mode": {
    "name": "ipython",
    "version": 3
   },
   "file_extension": ".py",
   "mimetype": "text/x-python",
   "name": "python",
   "nbconvert_exporter": "python",
   "pygments_lexer": "ipython3",
   "version": "3.11.6"
  }
 },
 "nbformat": 4,
 "nbformat_minor": 2
}
