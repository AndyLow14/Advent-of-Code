{
 "cells": [
  {
   "cell_type": "markdown",
   "metadata": {},
   "source": [
    "Day 1 Q 1"
   ]
  },
  {
   "cell_type": "code",
   "execution_count": null,
   "metadata": {},
   "outputs": [],
   "source": [
    "file = open(\"2023_1_input.txt\", \"r\")\n",
    "\n",
    "total = 0\n",
    "  \n",
    "for line in file:\n",
    "    frontChar = \"\"\n",
    "    for char in line:\n",
    "        if char.isnumeric():\n",
    "            frontChar += char\n",
    "            break\n",
    "    for charR in line[::-1]:\n",
    "        if charR.isnumeric():\n",
    "            frontChar += charR\n",
    "            break\n",
    "    total += int(frontChar)\n",
    "\n",
    "print(total)"
   ]
  },
  {
   "cell_type": "markdown",
   "metadata": {},
   "source": [
    "Day 1 Q 2"
   ]
  },
  {
   "cell_type": "code",
   "execution_count": null,
   "metadata": {},
   "outputs": [],
   "source": [
    "file = open(\"2023_1_input.txt\", \"r\")\n",
    "\n",
    "number_dict = {\n",
    "    'one': 1,\n",
    "    'two': 2,\n",
    "    'three': 3,\n",
    "    'four': 4,\n",
    "    'five': 5,\n",
    "    'six': 6,\n",
    "    'seven': 7,\n",
    "    'eight': 8,\n",
    "    'nine': 9,\n",
    "}\n",
    "\n",
    "all_array = [] \n",
    "\n",
    "for line in file:\n",
    "    line_number_start = \"\"\n",
    "    line_number_end = \"\"\n",
    "    found_start = False\n",
    "    found_end = False\n",
    "    for i in range(len(line)):\n",
    "        if line[i].isnumeric():\n",
    "            line_number_start = line[i]\n",
    "            break\n",
    "\n",
    "        for word in number_dict:\n",
    "            if line.startswith(word, i):\n",
    "                line_number_start = str(number_dict[word])\n",
    "                found_start = True\n",
    "                break\n",
    "        if found_start:\n",
    "            break\n",
    "\n",
    "    for j in range(len(line) - 1, -1, -1):\n",
    "        if line[j].isnumeric():\n",
    "            line_number_end = line[j]\n",
    "            break\n",
    "        \n",
    "        for word in number_dict:\n",
    "            if line.startswith(word, j):\n",
    "                line_number_end = str(number_dict[word])\n",
    "                found_end = True\n",
    "                break\n",
    "        if found_end:\n",
    "            break\n",
    "\n",
    "    all_array.append(int(line_number_start + line_number_end))\n",
    "          \n",
    "print(sum(all_array))\n",
    "\n"
   ]
  }
 ],
 "metadata": {
  "language_info": {
   "name": "python"
  }
 },
 "nbformat": 4,
 "nbformat_minor": 2
}
