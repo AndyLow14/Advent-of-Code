{
 "cells": [
  {
   "cell_type": "code",
   "execution_count": 28,
   "metadata": {},
   "outputs": [
    {
     "name": "stdout",
     "output_type": "stream",
     "text": [
      "35\n"
     ]
    }
   ],
   "source": [
    "# Read data from file\n",
    "D = open(\"2023_5_input.txt\").read().strip()\n",
    "L = D.split('\\n')\n",
    "\n",
    "parts = D.split('\\n\\n')\n",
    "\n",
    "# seed: [79, 14, 55, 13]\n",
    "# others: ['seed-to-soil map:\\n50 98 2\\n52 50 48', ...]\n",
    "seeds, *others = parts\n",
    "seeds = [int(x) for x in seeds.split(':')[1].split()]\n",
    "\n",
    "def process_function(curr_map, curr_seed):\n",
    "    # remove title\n",
    "    # 'seed-to-soil map:\\n50 98 2\\n52 50 48' -> [\"50 98 2\",\"52 50 48\"]\n",
    "    lines = curr_map.split('\\n')[1:]  \n",
    "    # create tuple (dest, source, length): [[50, 98, 2], [52, 50, 48]]\n",
    "    tuples = [[int(x) for x in line.split()] for line in lines]\n",
    "\n",
    "    for (dst, src, le) in tuples:\n",
    "        if src <= curr_seed < src + le:\n",
    "            return curr_seed + dst - src\n",
    "    return curr_seed\n",
    "\n",
    "P1 = []\n",
    "for seed in seeds:\n",
    "    for map in others:\n",
    "        seed = process_function(map, seed)\n",
    "    P1.append(seed)\n",
    "\n",
    "    \n",
    "\n",
    "\n",
    "print(min(P1))\n"
   ]
  }
 ],
 "metadata": {
  "kernelspec": {
   "display_name": "Python 3",
   "language": "python",
   "name": "python3"
  },
  "language_info": {
   "codemirror_mode": {
    "name": "ipython",
    "version": 3
   },
   "file_extension": ".py",
   "mimetype": "text/x-python",
   "name": "python",
   "nbconvert_exporter": "python",
   "pygments_lexer": "ipython3",
   "version": "3.11.6"
  }
 },
 "nbformat": 4,
 "nbformat_minor": 2
}
