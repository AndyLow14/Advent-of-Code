{
 "cells": [
  {
   "cell_type": "markdown",
   "metadata": {},
   "source": [
    "Day 5 Q 1"
   ]
  },
  {
   "cell_type": "code",
   "execution_count": 37,
   "metadata": {},
   "outputs": [
    {
     "name": "stderr",
     "output_type": "stream",
     "text": [
      "100%|██████████| 14/14 [00:00<00:00, 203184.28it/s]"
     ]
    },
    {
     "name": "stdout",
     "output_type": "stream",
     "text": [
      "43\n",
      "46\n"
     ]
    },
    {
     "name": "stderr",
     "output_type": "stream",
     "text": [
      "\n"
     ]
    }
   ],
   "source": [
    "from tqdm import tqdm\n",
    "\n",
    "def process_map(curr_map):\n",
    "    lines = curr_map.split('\\n')[1:]\n",
    "    tuples = [[int(x) for x in line.split()] for line in lines]\n",
    "    return tuples\n",
    "\n",
    "def process_function(curr_seed, tuples):\n",
    "    for (dst, src, le) in tuples:\n",
    "        if src <= curr_seed < src + le:\n",
    "            return curr_seed + dst - src\n",
    "    return curr_seed\n",
    "\n",
    "# Read data from file\n",
    "D = open(\"2023_5_input.txt\").read().strip()\n",
    "L = D.split('\\n')\n",
    "\n",
    "parts = D.split('\\n\\n')\n",
    "\n",
    "# seed: [79, 14, 55, 13]\n",
    "# others: ['seed-to-soil map:\\n50 98 2\\n52 50 48', ...]\n",
    "seeds, *others = parts\n",
    "seeds = [int(x) for x in seeds.split(': ')[1].split()]\n",
    "\n",
    "# Process maps only once\n",
    "processed_maps = [process_map(curr_map) for curr_map in others]\n",
    "\n",
    "P1 = []\n",
    "for seed in seeds:\n",
    "    for i, curr_map in enumerate(others):\n",
    "        seed = process_function(seed, processed_maps[i])\n",
    "    P1.append(seed)\n",
    "\n",
    "print(min(P1))\n"
   ]
  },
  {
   "cell_type": "markdown",
   "metadata": {},
   "source": [
    "Day 5 Q 2"
   ]
  },
  {
   "cell_type": "code",
   "execution_count": 1,
   "metadata": {},
   "outputs": [
    {
     "name": "stdout",
     "output_type": "stream",
     "text": [
      "46\n",
      "10\n"
     ]
    }
   ],
   "source": [
    "from concurrent.futures import ThreadPoolExecutor\n",
    "\n",
    "def process_map(curr_map):\n",
    "    lines = curr_map.split('\\n')[1:]\n",
    "    tuples = [[int(x) for x in line.split()] for line in lines]\n",
    "    return tuples\n",
    "\n",
    "def process_function(curr_seed, tuples):\n",
    "    for (dst, src, le) in tuples:\n",
    "        if src <= curr_seed < src + le:\n",
    "            return curr_seed + dst - src\n",
    "    return curr_seed\n",
    "\n",
    "def process_seeds(seed_range, seed, processed_maps, others):\n",
    "    P2 = []\n",
    "    for j in range(1, seed_range + 1):\n",
    "        current_seed = seed + j\n",
    "        for i, curr_map in enumerate(others):\n",
    "            current_seed = process_function(current_seed, processed_maps[i])\n",
    "        P2.append(current_seed)\n",
    "    return P2\n",
    "\n",
    "if __name__ == \"__main__\":\n",
    "    D = open(\"2023_5_input.txt\").read().strip()\n",
    "    L = D.split('\\n')\n",
    "\n",
    "    parts = D.split('\\n\\n')\n",
    "\n",
    "    seeds, *others = parts\n",
    "    seeds = [int(x) for x in seeds.split(': ')[1].split()]\n",
    "\n",
    "    processed_maps = [process_map(curr_map) for curr_map in others]\n",
    "\n",
    "    pairs = [(seeds[i], seeds[i + 1]) for i in range(0, len(seeds), 2)]\n",
    "\n",
    "    P2 = []\n",
    "\n",
    "    with ThreadPoolExecutor(max_workers=10) as executor:  # Adjust max_workers as needed\n",
    "        futures = [executor.submit(process_seeds, seed_range, seed, processed_maps, others) for seed, seed_range in pairs]\n",
    "\n",
    "        for future in futures:\n",
    "            P2.extend(future.result())\n",
    "\n",
    "    print(min(P2))"
   ]
  }
 ],
 "metadata": {
  "kernelspec": {
   "display_name": "Python 3",
   "language": "python",
   "name": "python3"
  },
  "language_info": {
   "codemirror_mode": {
    "name": "ipython",
    "version": 3
   },
   "file_extension": ".py",
   "mimetype": "text/x-python",
   "name": "python",
   "nbconvert_exporter": "python",
   "pygments_lexer": "ipython3",
   "version": "3.11.6"
  }
 },
 "nbformat": 4,
 "nbformat_minor": 2
}
