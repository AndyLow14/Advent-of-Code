{
 "cells": [
  {
   "cell_type": "markdown",
   "metadata": {},
   "source": [
    "Day 2 Q 1"
   ]
  },
  {
   "cell_type": "code",
   "execution_count": null,
   "metadata": {},
   "outputs": [],
   "source": [
    "file = open(\"2023_2_1.txt\", \"r\")\n",
    "\n",
    "cubes = {\n",
    "    'red': 12,\n",
    "    'green': 13,\n",
    "    'blue': 14,\n",
    "}\n",
    "\n",
    "id_sum = 0\n",
    "id_sum_possible = 0\n",
    "\n",
    "for line in file:\n",
    "   \n",
    "    game_id = line.split(\":\")[0].strip().split(\" \")[1]\n",
    "    id_sum += int(game_id)\n",
    "    colon_index = line.find(\":\")\n",
    "    substring_after_colon = line[colon_index + 1:].strip(\"\\n\")\n",
    "    games = substring_after_colon.split(\";\")\n",
    "    break_all_loops = False \n",
    "\n",
    "    for game in games:\n",
    "      \n",
    "        game_colors = game.strip(\" \").split(\", \")\n",
    "        for game_color in game_colors:\n",
    "            for cube in cubes:\n",
    "                if (game_color.endswith(cube)):\n",
    "                    curr_game_colors = game_color.split(\" \")[0]\n",
    "                    if (int(curr_game_colors) > cubes[cube]):\n",
    "              \n",
    "                        id_sum_possible += int(game_id)\n",
    "                        break_all_loops = True\n",
    "                        break  \n",
    "            if break_all_loops:\n",
    "                break \n",
    "        if break_all_loops:\n",
    "            break  \n",
    "\n",
    "\n",
    "print(id_sum-id_sum_possible)"
   ]
  },
  {
   "cell_type": "markdown",
   "metadata": {},
   "source": [
    "Day 2 Q 2"
   ]
  },
  {
   "cell_type": "code",
   "execution_count": null,
   "metadata": {},
   "outputs": [],
   "source": [
    "file = open(\"2023_2_input.txt\", \"r\")\n",
    "\n",
    "cubes = {\n",
    "    'red': 12,\n",
    "    'green': 13,\n",
    "    'blue': 14,\n",
    "}\n",
    "\n",
    "power_sum = 0\n",
    "\n",
    "for line in file:\n",
    "\n",
    "    curr_game_least = {\n",
    "        'red': 0,\n",
    "        'green': 0,\n",
    "        'blue': 0,\n",
    "    }\n",
    "\n",
    "    # ex. 1, 2, 3 ...\n",
    "    game_id = line.split(\":\")[0].strip().split(\" \")[1]\n",
    "    id_sum += int(game_id)\n",
    "    # Find the index of the colon\n",
    "    colon_index = line.find(\":\")\n",
    "    # ex. \"3 blue, 4 red; 1 red, 2 green, 6 blue; 2 green\"\n",
    "    substring_after_colon = line[colon_index + 1:].strip(\"\\n\")\n",
    "\n",
    "    # ex. [\"3 blue, 4 red\", \"1 red, 2 green\", \"6 blue; 2 green\"]\n",
    "    games = substring_after_colon.split(\";\")\n",
    "    break_all_loops = False  \n",
    "\n",
    "    for game in games:\n",
    "        # ex. [\"3 blue\", \"4 red\"]\n",
    "        game_colors = game.strip(\" \").split(\", \")\n",
    "          # ex. \"3 blue\"\n",
    "        for game_color in game_colors:\n",
    "            split = game_color.split(\" \")\n",
    "            num = split[0]\n",
    "            col = split[1]\n",
    "            if int(curr_game_least[col]) < int(num):\n",
    "                curr_game_least[col] = num\n",
    "        \n",
    "    power_sum += int(curr_game_least['red']) * int(curr_game_least['green']) * int(curr_game_least['blue'])\n",
    "\n",
    "print(power_sum)"
   ]
  }
 ],
 "metadata": {
  "language_info": {
   "name": "python"
  }
 },
 "nbformat": 4,
 "nbformat_minor": 2
}
