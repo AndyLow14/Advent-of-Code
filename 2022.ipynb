{
 "cells": [
  {
   "cell_type": "code",
   "execution_count": 3,
   "metadata": {},
   "outputs": [
    {
     "name": "stdout",
     "output_type": "stream",
     "text": [
      "66306\n"
     ]
    }
   ],
   "source": [
    "file = open(\"old_text.txt\", \"r\")\n",
    "\n",
    "max_cal = 0\n",
    "curr_cal = 0\n",
    "  \n",
    "for line in file:\n",
    "   if line in ['\\n', '\\r\\n']:\n",
    "      if curr_cal > max_cal:\n",
    "        max_cal = curr_cal\n",
    "      curr_cal = 0\n",
    "   else:\n",
    "    curr_cal += int(line)   \n",
    "   \n",
    "\n",
    "print(max_cal)"
   ]
  }
 ],
 "metadata": {
  "kernelspec": {
   "display_name": "Python 3",
   "language": "python",
   "name": "python3"
  },
  "language_info": {
   "codemirror_mode": {
    "name": "ipython",
    "version": 3
   },
   "file_extension": ".py",
   "mimetype": "text/x-python",
   "name": "python",
   "nbconvert_exporter": "python",
   "pygments_lexer": "ipython3",
   "version": "3.9.6"
  }
 },
 "nbformat": 4,
 "nbformat_minor": 2
}
